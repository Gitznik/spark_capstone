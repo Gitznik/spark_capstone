{
 "metadata": {
  "language_info": {
   "codemirror_mode": {
    "name": "ipython",
    "version": 3
   },
   "file_extension": ".py",
   "mimetype": "text/x-python",
   "name": "python",
   "nbconvert_exporter": "python",
   "pygments_lexer": "ipython3",
   "version": "3.8.6-final"
  },
  "orig_nbformat": 2,
  "kernelspec": {
   "name": "python3",
   "display_name": "Python 3.8.6 64-bit ('env')",
   "metadata": {
    "interpreter": {
     "hash": "18b08cc3eecd310d4db0199bee5cd64e02dad618a064d16edca19ec84c59e158"
    }
   }
  }
 },
 "nbformat": 4,
 "nbformat_minor": 2,
 "cells": [
  {
   "cell_type": "code",
   "execution_count": 1,
   "metadata": {},
   "outputs": [],
   "source": [
    "import re\n",
    "import numpy as np\n",
    "import pandas as pd\n",
    "\n",
    "import findspark\n",
    "findspark.init()\n",
    "\n",
    "import pyspark\n",
    "from pyspark.sql import SparkSession\n",
    "from pyspark.sql.functions import udf\n",
    "from pyspark.sql.types import StringType\n",
    "from pyspark.sql.types import IntegerType\n",
    "from pyspark.sql.functions import desc\n",
    "from pyspark.sql.functions import asc\n",
    "from pyspark.sql.functions import sum as Fsum\n",
    "from pyspark.sql.functions import avg as Favg\n",
    "from pyspark.sql.functions import count as Fcount\n",
    "from pyspark.sql.functions import countDistinct as FcountDistinct\n",
    "from pyspark.sql.functions import min as Fmin\n",
    "from pyspark.sql.functions import max as Fmax\n",
    "from pyspark.sql.functions import when\n",
    "from pyspark.sql.functions import col\n",
    "from pyspark.sql.window import Window\n",
    "\n",
    "from pyspark.ml import Pipeline\n",
    "from pyspark.ml.feature import MinMaxScaler, VectorAssembler, StringIndexer\n",
    "from pyspark.ml.classification import MultilayerPerceptronClassifier\n",
    "from pyspark.ml.tuning import CrossValidator, ParamGridBuilder\n",
    "from pyspark.ml.evaluation import MulticlassClassificationEvaluator\n"
   ]
  },
  {
   "source": [
    "# Load Dataset"
   ],
   "cell_type": "markdown",
   "metadata": {}
  },
  {
   "cell_type": "code",
   "execution_count": 2,
   "metadata": {},
   "outputs": [],
   "source": [
    "dfpath = '../data/medium-sparkify-event-data.json'\n",
    "spark = SparkSession\\\n",
    "        .builder\\\n",
    "        .appName('sparkify_etl')\\\n",
    "        .getOrCreate()\n",
    "\n",
    "df = spark.read.json(dfpath)\n"
   ]
  },
  {
   "source": [
    "# Clean data\n",
    "\n",
    "As there is no value in looking at users that are not logged in for churn analysis - their entries will be disregarded. \n",
    "The empty `Artist`, `Song` and `Length` values will not be removed, as the rest of their rows may provide valuable data."
   ],
   "cell_type": "markdown",
   "metadata": {}
  },
  {
   "cell_type": "code",
   "execution_count": 10,
   "metadata": {},
   "outputs": [],
   "source": [
    "# Remove columns that are unlikely to be valuable\n",
    "valuable_columns = ['artist', 'auth', 'gender', 'itemInSession', 'level', 'location', 'page', 'registration', 'sessionId', 'song', 'status', 'ts', 'userAgent', 'userId']\n",
    "df = df.select(valuable_columns)\n",
    "\n",
    "df = df.filter(df.auth.isin(['Logged Out', 'Guest']) == False)"
   ]
  },
  {
   "source": [
    "# Feature Engineering"
   ],
   "cell_type": "markdown",
   "metadata": {}
  },
  {
   "source": [
    "def detect_os(column):\n",
    "    '''\n",
    "        summary:\n",
    "            Transformes the userId userAgent column into the platform used by the user\n",
    "            * Microsoft\n",
    "            * Apple\n",
    "            * Linux\n",
    "        args:\n",
    "            column - column to be transformed\n",
    "        returns:\n",
    "            Name of the platform used\n",
    "    '''\n",
    "    detect = re.findall(r'\\((\\w+)', column)[0]\n",
    "    if detect in ['iPhone', 'iPad', 'Macintosh']:\n",
    "        return 'Apple'\n",
    "    elif detect in ['Windows', 'compatible']:\n",
    "        return'Microsoft'\n",
    "    elif detect in ['X11']:\n",
    "        return'Linux'\n",
    "    else:\n",
    "        return 'Not Detected'\n",
    "\n",
    "detect_os_udf = udf(detect_os)\n",
    "\n",
    "# Create platform and age in hours column\n",
    "df = df.withColumn('platform', detect_os_udf(df.userAgent))\\\n",
    "        .withColumn('ageHours', (df.ts - df.registration)/3600000)\\\n",
    "        .drop('userAgent')\n",
    "\n",
    "df = df.withColumn('levelNr', when(\n",
    "    col('level') == 'paid', 1)\n",
    "    .otherwise(0)\n",
    ")"
   ],
   "cell_type": "code",
   "metadata": {},
   "execution_count": 11,
   "outputs": []
  },
  {
   "source": [
    "## Define and flag churn\n",
    "\n",
    "Churn defined as having a `Cancellation Confirmation` page visit"
   ],
   "cell_type": "markdown",
   "metadata": {}
  },
  {
   "cell_type": "code",
   "execution_count": 12,
   "metadata": {
    "tags": []
   },
   "outputs": [
    {
     "output_type": "stream",
     "name": "stdout",
     "text": [
      "+--------------------+---------+------+-------------+-----+--------------------+--------------------+-------------+---------+--------------------+------+-------------+------+--------+------------------+-------+---------+-------+\n|              artist|     auth|gender|itemInSession|level|            location|                page| registration|sessionId|                song|status|           ts|userId|platform|          ageHours|levelNr|ChurnFlag|Churned|\n+--------------------+---------+------+-------------+-----+--------------------+--------------------+-------------+---------+--------------------+------+-------------+------+--------+------------------+-------+---------+-------+\n|                null|Cancelled|     F|           67| free|Bridgeport-Stamfo...|Cancellation Conf...|1538016340000|      166|                null|   200|1539254318000|100010|   Apple| 343.8827777777778|      0|        1|      1|\n|                null|Logged In|     F|           66| free|Bridgeport-Stamfo...|              Cancel|1538016340000|      166|                null|   307|1539254305000|100010|   Apple|343.87916666666666|      0|        0|      1|\n|                null|Logged In|     F|           65| free|Bridgeport-Stamfo...|         Roll Advert|1538016340000|      166|                null|   200|1539254304000|100010|   Apple|343.87888888888887|      0|        0|      1|\n|Barry Tuckwell/Ac...|Logged In|     F|           64| free|Bridgeport-Stamfo...|            NextSong|1538016340000|      166|Horn Concerto No....|   200|1539254279000|100010|   Apple|343.87194444444447|      0|        0|      1|\n|        The Features|Logged In|     F|           63| free|Bridgeport-Stamfo...|            NextSong|1538016340000|      166|         Blow It Out|   200|1539254097000|100010|   Apple|343.82138888888886|      0|        0|      1|\n|                null|Logged In|     F|           62| free|Bridgeport-Stamfo...|         Roll Advert|1538016340000|      166|                null|   200|1539253766000|100010|   Apple| 343.7294444444444|      0|        0|      1|\n|            BjÃÂ¶rk|Logged In|     F|           61| free|Bridgeport-Stamfo...|            NextSong|1538016340000|      166|                Undo|   200|1539253749000|100010|   Apple| 343.7247222222222|      0|        0|      1|\n|            Ill Nino|Logged In|     F|           60| free|Bridgeport-Stamfo...|            NextSong|1538016340000|      166|How Can I Live (S...|   200|1539253561000|100010|   Apple|          343.6725|      0|        0|      1|\n|                null|Logged In|     F|           59| free|Bridgeport-Stamfo...|         Thumbs Down|1538016340000|      166|                null|   307|1539253352000|100010|   Apple| 343.6144444444444|      0|        0|      1|\n|       Alison Krauss|Logged In|     F|           58| free|Bridgeport-Stamfo...|            NextSong|1538016340000|      166|Tonight I'll Be L...|   200|1539253351000|100010|   Apple| 343.6141666666667|      0|        0|      1|\n|                 JET|Logged In|     F|           57| free|Bridgeport-Stamfo...|            NextSong|1538016340000|      166|Are You Gonna Be ...|   200|1539253138000|100010|   Apple|           343.555|      0|        0|      1|\n|           Santogold|Logged In|     F|           56| free|Bridgeport-Stamfo...|            NextSong|1538016340000|      166|Shove It [feat. S...|   200|1539252914000|100010|   Apple| 343.4927777777778|      0|        0|      1|\n|         Spice Girls|Logged In|     F|           55| free|Bridgeport-Stamfo...|            NextSong|1538016340000|      166|            Too Much|   200|1539252643000|100010|   Apple|          343.4175|      0|        0|      1|\n|        Dar Williams|Logged In|     F|           54| free|Bridgeport-Stamfo...|            NextSong|1538016340000|      166|              Empire|   200|1539252416000|100010|   Apple| 343.3544444444444|      0|        0|      1|\n|           Silentium|Logged In|     F|           53| free|Bridgeport-Stamfo...|            NextSong|1538016340000|      166|  With Blood Adorned|   200|1539252149000|100010|   Apple|343.28027777777777|      0|        0|      1|\n|       Brooks & Dunn|Logged In|     F|           52| free|Bridgeport-Stamfo...|            NextSong|1538016340000|      166|If You See Him / ...|   200|1539251911000|100010|   Apple|343.21416666666664|      0|        0|      1|\n|Eliades Ochoa Y E...|Logged In|     F|           51| free|Bridgeport-Stamfo...|            NextSong|1538016340000|      166|Me Voy Pa Sibanic...|   200|1539251555000|100010|   Apple| 343.1152777777778|      0|        0|      1|\n|    Carlos Y JosÃÂ©|Logged In|     F|           50| free|Bridgeport-Stamfo...|            NextSong|1538016340000|      166|   Corrido Al Torero|   200|1539251374000|100010|   Apple|           343.065|      0|        0|      1|\n|       Faith No More|Logged In|     F|           49| free|Bridgeport-Stamfo...|            NextSong|1538016340000|      166|      Midlife Crisis|   200|1539251117000|100010|   Apple|342.99361111111114|      0|        0|      1|\n|          Fly Pan Am|Logged In|     F|           48| free|Bridgeport-Stamfo...|            NextSong|1538016340000|      166|     Arcades-Pamelor|   200|1539250896000|100010|   Apple| 342.9322222222222|      0|        0|      1|\n+--------------------+---------+------+-------------+-----+--------------------+--------------------+-------------+---------+--------------------+------+-------------+------+--------+------------------+-------+---------+-------+\nonly showing top 20 rows\n\n"
     ]
    }
   ],
   "source": [
    "flag_cancellation_event = udf(lambda x: 1 if x == \"Cancellation Confirmation\" else 0, IntegerType())\n",
    "df_churn = df.withColumn('ChurnFlag', flag_cancellation_event('page'))\n",
    "windowed = Window.partitionBy('userId').orderBy(desc('ts')).rangeBetween(Window.unboundedPreceding, 0)\n",
    "df_churn = df_churn.withColumn('Churned', Fsum('ChurnFlag').over(windowed))\n",
    "df_churn.filter(df_churn.Churned == 1)"
   ]
  },
  {
   "cell_type": "code",
   "execution_count": 13,
   "metadata": {},
   "outputs": [],
   "source": [
    "# Flag the last month of user data per user\n",
    "\n",
    "user_level = df_churn.groupBy('userId')\\\n",
    "                .agg(\n",
    "                    Fmax('ts').alias('latestSession'), \n",
    "                    Fmax(when(col('ChurnFlag') == 1, col('ts'))).alias('ChurnTime'))\n",
    "df_churn = df_churn.join(user_level, on= 'userId', how='left')\n",
    "df_churn = df_churn.withColumn(\n",
    "    'lastMonth',\n",
    "        when(col('churned') == 1, (col('ChurnTime') - col('ts')) /3600000 <= 720)\n",
    "        .otherwise((col('latestSession') - col('ts')) /3600000 <= 720))"
   ]
  },
  {
   "cell_type": "code",
   "execution_count": 14,
   "metadata": {},
   "outputs": [
    {
     "output_type": "stream",
     "name": "stdout",
     "text": [
      "+------+------+---------+-------+------------------+-----------+------------------+-------------+-----------------+-------+---------+------------+------+----+-----------+------------+-----------------------+---------------------+\n|userId|gender| platform|Churned| avgItemsInSession|premiumUser|          ageHours|songsListened|playlistAdditions|upVotes|downVotes|friendsAdded|errors|help|adsListened|sessionCount|distinctArtistsListened|distinctSongsListened|\n+------+------+---------+-------+------------------+-----------+------------------+-------------+-----------------+-------+---------+------------+------+----+-----------+------------+-----------------------+---------------------+\n|200002|     M|    Apple|      1|54.832911392405066|          1|1279.7555555555555|          310|                6|     15|        5|           2|     0|   1|         11|           5|                    287|                  306|\n|100049|     M|    Apple|      1| 63.91210613598673|          1|1219.9944444444445|          465|               22|     13|        5|           6|     0|   5|         37|           9|                    392|                  440|\n|     2|     F|Microsoft|      0| 59.46264367816092|          1|1892.6022222222223|          296|               10|     16|        3|           6|     0|   1|          0|           6|                    260|                  287|\n|   301|     F|    Apple|      0|               7.0|          0|2381.4780555555553|           12|                0|      0|        1|           0|     0|   0|          1|           1|                     12|                   12|\n|300002|     F|    Apple|      0| 73.99215344376634|          1|3035.9777777777776|          935|               18|     83|       13|          16|     0|   6|          0|          12|                    718|                  863|\n|   123|     M|    Apple|      1|27.654545454545456|          0|1274.4994444444444|           39|                2|      2|        0|           1|     0|   0|          4|           1|                     39|                   39|\n|    55|     M|    Apple|      0| 57.10344827586207|          1|1924.1805555555557|          419|                7|     13|        7|          17|     1|   2|         14|          12|                    363|                  396|\n|    38|     M|    Apple|      0|137.28740875912408|          1|1787.1402777777778|         1831|               59|     88|       24|          36|     2|   6|          0|          20|                   1242|                 1630|\n|100038|     M|Microsoft|      1| 64.23843930635839|          0| 811.9580555555556|          503|               12|     26|        8|          10|     1|   4|         86|           8|                    424|                  479|\n|200007|     F|    Apple|      0| 31.50793650793651|          1|1385.7516666666668|           94|                5|      8|        2|           0|     0|   1|          4|           3|                     90|                   92|\n|   208|     F|Microsoft|      1| 20.86842105263158|          0|456.16027777777776|           26|                0|      2|        0|           1|     0|   1|          0|           1|                     26|                   26|\n|300045|     M|Microsoft|      0|47.977337110481585|          1|2073.4391666666666|          290|                9|     23|        0|          14|     0|   3|          1|           6|                    259|                  280|\n|200013|     M|    Apple|      1|26.771300448430495|          1|1859.7611111111112|          174|                4|     13|        4|           1|     0|   1|          5|           6|                    164|                  174|\n|   100|     M|Microsoft|      0| 109.6023897816234|          1|1562.2813888888888|         2061|               57|     84|       24|          42|     3|  10|          1|          25|                   1362|                 1814|\n|300041|     M|    Apple|      0|  72.6701030927835|          1|1395.9047222222223|          713|               27|     61|        9|          11|     2|   6|          0|          10|                    563|                  670|\n|   285|     F|Microsoft|      0|101.63442940038685|          1| 2727.591388888889|          426|               18|     23|        3|          13|     0|   4|          4|           5|                    358|                  407|\n|    57|     M|    Apple|      0|  60.3732057416268|          1|1038.9488888888889|          176|                6|      7|        2|           3|     0|   1|          0|           2|                    157|                  169|\n|   135|     F|Microsoft|      0| 19.15068493150685|          0| 3003.948888888889|           54|                0|      2|        0|           3|     0|   0|          5|           2|                     53|                   54|\n|300017|     F|    Apple|      0| 74.42533229085223|          1|1793.9016666666666|         2065|               59|    192|       14|          53|     1|  10|          3|          38|                   1361|                 1828|\n|   227|     F|    Apple|      0|15.927272727272728|          0|1938.0744444444445|           82|                2|      3|        0|           1|     1|   2|          8|           4|                     80|                   81|\n+------+------+---------+-------+------------------+-----------+------------------+-------------+-----------------+-------+---------+------------+------+----+-----------+------------+-----------------------+---------------------+\nonly showing top 20 rows\n\n"
     ]
    }
   ],
   "source": [
    "# Aggregate on user level\n",
    "\n",
    "df_last_month = df_churn\\\n",
    "    .filter(col('lastMonth') == True)\\\n",
    "    .groupBy(['userId', 'platform', 'Churned'])\\\n",
    "    .agg(\n",
    "        Fmax(col('levelNr')).alias('premiumUser'),\n",
    "        Fmax(col('ageHours')).alias('ageHours'),\n",
    "        Fsum(when(col('page') == 'NextSong', 1)).alias('songsListened'),\n",
    "        Fsum(when(col('page') == 'Thumbs Down', 1)).alias('downVotes'),    \n",
    "    )\n",
    "\n",
    "df_last_month= df_last_month.fillna({\n",
    "    'downVotes':0,\n",
    "    'songsListened':0\n",
    "})\n",
    "\n",
    "df_last_month.show()"
   ]
  },
  {
   "source": [
    "## EDA & Feature Engineering results\n",
    "\n",
    "Taken from the EDA on the smaller data subset.\n",
    "\n",
    "|         | Not Churned | Churned |\n",
    "|---------|-------------|---------|\n",
    "| female  | 44%         | 45%     |\n",
    "| apple   | 44%         | 46,5%   |\n",
    "| Windows | 49.9%       | 48.5%   |\n",
    "| Linux   | 6.1%        | 5%      |\n",
    "\n",
    "* It does not look like gender has an influence on churn.\n",
    "* apple users are slightly more likely to churn compared to Linux and Windows users.\n",
    "* Churned users seem to be slightly more engaged, having a higher percentage of premium users, more items per session, songs listened and votes in general. \n",
    "* The one thing that stands out is that they have way give way more Down Votes on average. \n",
    "* They seem to be relatively newer to the service than the non churned users."
   ],
   "cell_type": "markdown",
   "metadata": {}
  },
  {
   "source": [
    "## Select and transform valuable features\n",
    "\n",
    "* Platform\n",
    "* Level\n",
    "* User Age\n",
    "* Songs listened\n",
    "* Down Votes"
   ],
   "cell_type": "markdown",
   "metadata": {}
  },
  {
   "cell_type": "code",
   "execution_count": 16,
   "metadata": {},
   "outputs": [
    {
     "output_type": "stream",
     "name": "stdout",
     "text": [
      "+-----+---------------+-----------+------------------+-------------+---------+\n|label|platformIndexed|premiumUser|          ageHours|songsListened|downVotes|\n+-----+---------------+-----------+------------------+-------------+---------+\n|    1|            1.0|          1|1279.7555555555555|          310|        5|\n|    1|            1.0|          1|1219.9944444444445|          465|        5|\n|    0|            0.0|          1|1892.6022222222223|          296|        3|\n|    0|            1.0|          0|2381.4780555555553|           12|        1|\n|    0|            1.0|          1|3035.9777777777776|          935|       13|\n|    1|            1.0|          0|1274.4994444444444|           39|        0|\n|    0|            1.0|          1|1924.1805555555557|          419|        7|\n|    0|            1.0|          1|1787.1402777777778|         1831|       24|\n|    1|            0.0|          0| 811.9580555555556|          503|        8|\n|    0|            1.0|          1|1385.7516666666668|           94|        2|\n|    1|            0.0|          0|456.16027777777776|           26|        0|\n|    0|            0.0|          1|2073.4391666666666|          290|        0|\n|    1|            1.0|          1|1859.7611111111112|          174|        4|\n|    0|            0.0|          1|1562.2813888888888|         2061|       24|\n|    0|            1.0|          1|1395.9047222222223|          713|        9|\n|    0|            0.0|          1| 2727.591388888889|          426|        3|\n|    0|            1.0|          1|1038.9488888888889|          176|        2|\n|    0|            0.0|          0| 3003.948888888889|           54|        0|\n|    0|            1.0|          1|1793.9016666666666|         2065|       14|\n|    0|            1.0|          0|1938.0744444444445|           82|        0|\n+-----+---------------+-----------+------------------+-------------+---------+\nonly showing top 20 rows\n\n"
     ]
    }
   ],
   "source": [
    "features = ['label', 'platformIndexed', 'premiumUser', 'ageHours', 'songsListened', 'downVotes']\n",
    "\n",
    "indexer = StringIndexer(inputCol='platform', outputCol='platformIndexed')\n",
    "df_user = indexer.fit(df_last_month)\\\n",
    "            .transform(df_last_month)\\\n",
    "            .withColumnRenamed('Churned', 'label')\\\n",
    "            .select(features)\n",
    "\n",
    "df_user.show()"
   ]
  },
  {
   "source": [
    "# Modeling"
   ],
   "cell_type": "markdown",
   "metadata": {}
  },
  {
   "cell_type": "code",
   "execution_count": 17,
   "metadata": {},
   "outputs": [],
   "source": [
    "train, test = df_user.randomSplit([0.8, 0.2], 23)\n",
    "\n",
    "feature_names = ['platformIndexed', 'premiumUser', 'ageHours', 'songsListened', 'downVotes']\n",
    "assembler = VectorAssembler(inputCols = feature_names, outputCol = 'features_vectorized')\n",
    "scaler = MinMaxScaler(inputCol = 'features_vectorized', outputCol = 'features')"
   ]
  },
  {
   "cell_type": "code",
   "execution_count": 18,
   "metadata": {},
   "outputs": [],
   "source": [
    "def run_pipeline(model, param_grid, data):\n",
    "    '''\n",
    "        summary:\n",
    "            Runs the pipeline for the provided model based on the provided parameter grid.\n",
    "        args:\n",
    "            model - model to be trained\n",
    "            param_grid - parameter grid that is to be evaluated\n",
    "            data - training data set to use\n",
    "        returns:\n",
    "            trained_model - the trained model\n",
    "    '''\n",
    "    pipeline = Pipeline(stages = [assembler, scaler, model])\n",
    "    crossval = CrossValidator(\n",
    "        estimator=pipeline,\n",
    "        estimatorParamMaps=param_grid,\n",
    "        evaluator=MulticlassClassificationEvaluator(metricName='f1'),\n",
    "        numFolds=3)\n",
    "    trained_model = crossval.fit(data)\n",
    "    return trained_model\n",
    "\n",
    "def evaluate_model(model, data):\n",
    "    '''\n",
    "        summary:\n",
    "            Evaluates the performance of a model using the f1-score.\n",
    "        args:\n",
    "            model - model to be evaluated\n",
    "            data - test data set to use\n",
    "        returns:\n",
    "            score - f1-score of the model\n",
    "            confustion_matrix - confusion matrix of the model\n",
    "    '''\n",
    "    evaluator = MulticlassClassificationEvaluator(metricName= 'f1')\n",
    "    predictions = model.transform(data)\n",
    "\n",
    "    score = evaluator.evaluate(predictions)\n",
    "    confusion_matrix = predictions.groupby('label')\\\n",
    "                        .pivot('prediction')\\\n",
    "                        .count()\\\n",
    "                        .toPandas()\n",
    "    return score, confusion_matrix"
   ]
  },
  {
   "source": [
    "## Multilayer Perceptron"
   ],
   "cell_type": "markdown",
   "metadata": {}
  },
  {
   "cell_type": "code",
   "execution_count": 22,
   "metadata": {},
   "outputs": [
    {
     "output_type": "stream",
     "name": "stdout",
     "text": [
      "The score for the multiplayer perceptron is 0.7849\nBest layer configuration: [5, 4, 4, 2]\nBest block size: 64\n"
     ]
    }
   ],
   "source": [
    "mp = MultilayerPerceptronClassifier()\n",
    "\n",
    "param_grid = ParamGridBuilder()\\\n",
    "                .addGrid(mp.layers, [[5, 4, 4, 2]])\\\n",
    "                .addGrid(mp.blockSize, [64])\\\n",
    "                .build()\n",
    "\n",
    "mp_model = run_pipeline(mp, param_grid, train)\n",
    "\n",
    "mp_score, mp_confusion = evaluate_model(mp_model, test)\n",
    "print(f'The score for the multiplayer perceptron is {mp_score:.4f}')\n",
    "print(mp_confusion)"
   ]
  },
  {
   "source": [
    "# Closing words\n",
    "\n",
    "The multilayer perceptron seems to be performing the best on the small dataset used here with an f1-score of 0.785. \n",
    "The configuration used to achieve these results are :\n",
    "* 5 nodes in the input layer\n",
    "* 4 nodes in the first intermediate layer\n",
    "* 4 nodes in the second intermediate layer\n",
    "* 2 nodes in the output layer\n",
    "* A block size of 64\n",
    "\n",
    "This configuration will be used to train and evaluate the model on the entire dataset as well."
   ],
   "cell_type": "markdown",
   "metadata": {}
  }
 ]
}