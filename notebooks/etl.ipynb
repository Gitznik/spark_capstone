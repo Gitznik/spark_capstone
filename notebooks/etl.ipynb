{
 "metadata": {
  "language_info": {
   "codemirror_mode": {
    "name": "ipython",
    "version": 3
   },
   "file_extension": ".py",
   "mimetype": "text/x-python",
   "name": "python",
   "nbconvert_exporter": "python",
   "pygments_lexer": "ipython3",
   "version": "3.8.6-final"
  },
  "orig_nbformat": 2,
  "kernelspec": {
   "name": "python3",
   "display_name": "Python 3.8.6 64-bit ('env')",
   "metadata": {
    "interpreter": {
     "hash": "18b08cc3eecd310d4db0199bee5cd64e02dad618a064d16edca19ec84c59e158"
    }
   }
  }
 },
 "nbformat": 4,
 "nbformat_minor": 2,
 "cells": [
  {
   "cell_type": "code",
   "execution_count": 91,
   "metadata": {},
   "outputs": [],
   "source": [
    "import re\n",
    "import numpy as np\n",
    "import pandas as pd\n",
    "\n",
    "import findspark\n",
    "findspark.init()\n",
    "\n",
    "import pyspark\n",
    "from pyspark.sql import SparkSession\n",
    "from pyspark.sql.functions import udf\n",
    "from pyspark.sql.types import StringType\n",
    "from pyspark.sql.types import IntegerType\n",
    "from pyspark.sql.functions import desc\n",
    "from pyspark.sql.functions import asc\n",
    "from pyspark.sql.functions import sum as Fsum\n",
    "from pyspark.sql.functions import avg as Favg\n",
    "from pyspark.sql.functions import count as Fcount\n",
    "from pyspark.sql.functions import countDistinct as FcountDistinct\n",
    "from pyspark.sql.functions import min as Fmin\n",
    "from pyspark.sql.functions import max as Fmax\n",
    "from pyspark.sql.functions import when\n",
    "from pyspark.sql.functions import col\n",
    "from pyspark.sql.window import Window\n",
    "\n",
    "from pyspark.ml import Pipeline\n",
    "from pyspark.ml.feature import MinMaxScaler, VectorAssembler, StringIndexer\n",
    "from pyspark.ml.classification import LogisticRegression, RandomForestClassifier, GBTClassifier, MultilayerPerceptronClassifier\n",
    "from pyspark.ml.tuning import CrossValidator, ParamGridBuilder\n",
    "from pyspark.ml.evaluation import MulticlassClassificationEvaluator\n"
   ]
  },
  {
   "cell_type": "code",
   "execution_count": 2,
   "metadata": {},
   "outputs": [],
   "source": [
    "dfpath = '../data/medium-sparkify-event-data.json'\n",
    "spark = SparkSession\\\n",
    "        .builder\\\n",
    "        .appName('sparkify_etl')\\\n",
    "        .getOrCreate()\n",
    "\n",
    "df = spark.read.json(dfpath)"
   ]
  },
  {
   "source": [
    "# EDA"
   ],
   "cell_type": "markdown",
   "metadata": {}
  },
  {
   "cell_type": "code",
   "execution_count": 3,
   "metadata": {},
   "outputs": [
    {
     "output_type": "stream",
     "name": "stdout",
     "text": [
      "root\n |-- artist: string (nullable = true)\n |-- auth: string (nullable = true)\n |-- firstName: string (nullable = true)\n |-- gender: string (nullable = true)\n |-- itemInSession: long (nullable = true)\n |-- lastName: string (nullable = true)\n |-- length: double (nullable = true)\n |-- level: string (nullable = true)\n |-- location: string (nullable = true)\n |-- method: string (nullable = true)\n |-- page: string (nullable = true)\n |-- registration: long (nullable = true)\n |-- sessionId: long (nullable = true)\n |-- song: string (nullable = true)\n |-- status: long (nullable = true)\n |-- ts: long (nullable = true)\n |-- userAgent: string (nullable = true)\n |-- userId: string (nullable = true)\n\n"
     ]
    }
   ],
   "source": [
    "df.printSchema()"
   ]
  },
  {
   "cell_type": "code",
   "execution_count": 4,
   "metadata": {},
   "outputs": [],
   "source": [
    "valuable_columns = ['artist', 'auth', 'gender', 'itemInSession', 'level', 'location', 'page', 'registration', 'sessionId', 'song', 'status', 'ts', 'userAgent', 'userId']\n",
    "df = df.select(valuable_columns)"
   ]
  },
  {
   "cell_type": "code",
   "execution_count": 5,
   "metadata": {},
   "outputs": [
    {
     "output_type": "stream",
     "name": "stdout",
     "text": [
      "+-------+-----------------+\n",
      "|summary|           artist|\n",
      "+-------+-----------------+\n",
      "|  count|           432877|\n",
      "|   mean|527.5289537712895|\n",
      "| stddev|966.1072451772758|\n",
      "|    min|              !!!|\n",
      "|    max|ÃÂlafur Arnalds|\n",
      "+-------+-----------------+\n",
      "\n",
      "+-------+----------+\n",
      "|summary|      auth|\n",
      "+-------+----------+\n",
      "|  count|    543705|\n",
      "|   mean|      null|\n",
      "| stddev|      null|\n",
      "|    min| Cancelled|\n",
      "|    max|Logged Out|\n",
      "+-------+----------+\n",
      "\n",
      "+-------+------+\n",
      "|summary|gender|\n",
      "+-------+------+\n",
      "|  count|528005|\n",
      "|   mean|  null|\n",
      "| stddev|  null|\n",
      "|    min|     F|\n",
      "|    max|     M|\n",
      "+-------+------+\n",
      "\n",
      "+-------+------------------+\n",
      "|summary|     itemInSession|\n",
      "+-------+------------------+\n",
      "|  count|            543705|\n",
      "|   mean|107.30629109535502|\n",
      "| stddev|116.72350849188155|\n",
      "|    min|                 0|\n",
      "|    max|              1005|\n",
      "+-------+------------------+\n",
      "\n",
      "+-------+------+\n",
      "|summary| level|\n",
      "+-------+------+\n",
      "|  count|543705|\n",
      "|   mean|  null|\n",
      "| stddev|  null|\n",
      "|    min|  free|\n",
      "|    max|  paid|\n",
      "+-------+------+\n",
      "\n",
      "+-------+----------------+\n",
      "|summary|        location|\n",
      "+-------+----------------+\n",
      "|  count|          528005|\n",
      "|   mean|            null|\n",
      "| stddev|            null|\n",
      "|    min|       Akron, OH|\n",
      "|    max|York-Hanover, PA|\n",
      "+-------+----------------+\n",
      "\n",
      "+-------+-------+\n",
      "|summary|   page|\n",
      "+-------+-------+\n",
      "|  count| 543705|\n",
      "|   mean|   null|\n",
      "| stddev|   null|\n",
      "|    min|  About|\n",
      "|    max|Upgrade|\n",
      "+-------+-------+\n",
      "\n",
      "+-------+--------------------+\n",
      "|summary|        registration|\n",
      "+-------+--------------------+\n",
      "|  count|              528005|\n",
      "|   mean|1.535523414863919...|\n",
      "| stddev| 3.078725492995913E9|\n",
      "|    min|       1509854193000|\n",
      "|    max|       1543073874000|\n",
      "+-------+--------------------+\n",
      "\n",
      "+-------+------------------+\n",
      "|summary|         sessionId|\n",
      "+-------+------------------+\n",
      "|  count|            543705|\n",
      "|   mean|2040.8143533717732|\n",
      "| stddev|1434.3389310782645|\n",
      "|    min|                 1|\n",
      "|    max|              4808|\n",
      "+-------+------------------+\n",
      "\n",
      "+-------+--------------------+\n",
      "|summary|                song|\n",
      "+-------+--------------------+\n",
      "|  count|              432877|\n",
      "|   mean|                 NaN|\n",
      "| stddev|                 NaN|\n",
      "|    min|\u001cÃÂg ÃÂtti Gr...|\n",
      "|    max|ÃÂ¾etta Gerist Ã...|\n",
      "+-------+--------------------+\n",
      "\n",
      "+-------+------------------+\n",
      "|summary|            status|\n",
      "+-------+------------------+\n",
      "|  count|            543705|\n",
      "|   mean|210.01829116892432|\n",
      "| stddev|31.471919021567246|\n",
      "|    min|               200|\n",
      "|    max|               404|\n",
      "+-------+------------------+\n",
      "\n",
      "+-------+--------------------+\n",
      "|summary|                  ts|\n",
      "+-------+--------------------+\n",
      "|  count|              543705|\n",
      "|   mean|1.540964541209823...|\n",
      "| stddev|1.4820571449102201E9|\n",
      "|    min|       1538352011000|\n",
      "|    max|       1543622466000|\n",
      "+-------+--------------------+\n",
      "\n",
      "+-------+--------------------+\n",
      "|summary|           userAgent|\n",
      "+-------+--------------------+\n",
      "|  count|              528005|\n",
      "|   mean|                null|\n",
      "| stddev|                null|\n",
      "|    min|\"Mozilla/5.0 (Mac...|\n",
      "|    max|Mozilla/5.0 (comp...|\n",
      "+-------+--------------------+\n",
      "\n",
      "+-------+------------------+\n",
      "|summary|            userId|\n",
      "+-------+------------------+\n",
      "|  count|            543705|\n",
      "|   mean| 60268.42669103512|\n",
      "| stddev|109898.82324176568|\n",
      "|    min|                  |\n",
      "|    max|                99|\n",
      "+-------+------------------+\n",
      "\n"
     ]
    }
   ],
   "source": [
    "for column in df.columns:\n",
    "    df.describe(column).show()"
   ]
  },
  {
   "cell_type": "code",
   "execution_count": 6,
   "metadata": {},
   "outputs": [
    {
     "output_type": "stream",
     "name": "stdout",
     "text": [
      "+--------------------+\n",
      "|              artist|\n",
      "+--------------------+\n",
      "|      The Black Keys|\n",
      "|        Yann Tiersen|\n",
      "|    Jane's Addiction|\n",
      "|          Tim Hughes|\n",
      "|Dashboard Confess...|\n",
      "|                Silk|\n",
      "|Yonder Mountain S...|\n",
      "|            La Shica|\n",
      "|        Elvis Crespo|\n",
      "|         Silverstein|\n",
      "|         Eva Cassidy|\n",
      "|        Generation X|\n",
      "|     Robyn Hitchcock|\n",
      "|           Kate Nash|\n",
      "|       Jupiter Jones|\n",
      "|           Los Lobos|\n",
      "|               Rufio|\n",
      "|     Drive Like Jehu|\n",
      "|       Yuichi Tamate|\n",
      "|      Jarabe De Palo|\n",
      "+--------------------+\n",
      "only showing top 20 rows\n",
      "\n",
      "+----------+\n",
      "|      auth|\n",
      "+----------+\n",
      "|Logged Out|\n",
      "| Cancelled|\n",
      "|     Guest|\n",
      "| Logged In|\n",
      "+----------+\n",
      "\n",
      "+------+\n",
      "|gender|\n",
      "+------+\n",
      "|     F|\n",
      "|  null|\n",
      "|     M|\n",
      "+------+\n",
      "\n",
      "+-----+\n",
      "|level|\n",
      "+-----+\n",
      "| free|\n",
      "| paid|\n",
      "+-----+\n",
      "\n",
      "+--------------------+\n",
      "|            location|\n",
      "+--------------------+\n",
      "|     Gainesville, FL|\n",
      "|Atlantic City-Ham...|\n",
      "|        Richmond, VA|\n",
      "|          Tucson, AZ|\n",
      "|       Oskaloosa, IA|\n",
      "|Deltona-Daytona B...|\n",
      "|San Diego-Carlsba...|\n",
      "|Cleveland-Elyria, OH|\n",
      "|         Medford, OR|\n",
      "|Kingsport-Bristol...|\n",
      "|New Haven-Milford...|\n",
      "|Birmingham-Hoover...|\n",
      "|  Corpus Christi, TX|\n",
      "|          Mobile, AL|\n",
      "|         Dubuque, IA|\n",
      "|Las Vegas-Henders...|\n",
      "|  Killeen-Temple, TX|\n",
      "|     Ottawa-Peru, IL|\n",
      "|      Boise City, ID|\n",
      "|Bremerton-Silverd...|\n",
      "+--------------------+\n",
      "only showing top 20 rows\n",
      "\n",
      "+--------------------+\n",
      "|                page|\n",
      "+--------------------+\n",
      "|              Cancel|\n",
      "|    Submit Downgrade|\n",
      "|         Thumbs Down|\n",
      "|                Home|\n",
      "|           Downgrade|\n",
      "|         Roll Advert|\n",
      "|              Logout|\n",
      "|       Save Settings|\n",
      "|Cancellation Conf...|\n",
      "|               About|\n",
      "| Submit Registration|\n",
      "|            Settings|\n",
      "|               Login|\n",
      "|            Register|\n",
      "|     Add to Playlist|\n",
      "|          Add Friend|\n",
      "|            NextSong|\n",
      "|           Thumbs Up|\n",
      "|                Help|\n",
      "|             Upgrade|\n",
      "+--------------------+\n",
      "only showing top 20 rows\n",
      "\n",
      "+--------------------+\n",
      "|                song|\n",
      "+--------------------+\n",
      "|             Sitting|\n",
      "|              Heaven|\n",
      "|Turn Your Lights ...|\n",
      "|Never Gonna Be Al...|\n",
      "|  Setting vs. Rising|\n",
      "|What's A Broken H...|\n",
      "|          Nightmares|\n",
      "|       One Sweet Day|\n",
      "|            El Colmo|\n",
      "|   Two Ocean Plateau|\n",
      "|              Remedy|\n",
      "|            Kiss Off|\n",
      "|    Mood For Trouble|\n",
      "|         Anywhere Is|\n",
      "|           Explosive|\n",
      "|         TULENLIEKKI|\n",
      "|Forgotten (Lost A...|\n",
      "|          Sea-Shells|\n",
      "|      Billy Breathes|\n",
      "|         AquaCityBoy|\n",
      "+--------------------+\n",
      "only showing top 20 rows\n",
      "\n",
      "+--------------------+\n",
      "|           userAgent|\n",
      "+--------------------+\n",
      "|\"Mozilla/5.0 (Mac...|\n",
      "|\"Mozilla/5.0 (Win...|\n",
      "|Mozilla/5.0 (X11;...|\n",
      "|\"Mozilla/5.0 (Mac...|\n",
      "|\"Mozilla/5.0 (Mac...|\n",
      "|Mozilla/5.0 (Maci...|\n",
      "|Mozilla/5.0 (Wind...|\n",
      "|Mozilla/5.0 (Wind...|\n",
      "|Mozilla/5.0 (comp...|\n",
      "|\"Mozilla/5.0 (Win...|\n",
      "|Mozilla/5.0 (Maci...|\n",
      "|\"Mozilla/5.0 (Mac...|\n",
      "|Mozilla/5.0 (Wind...|\n",
      "|\"Mozilla/5.0 (Win...|\n",
      "|                null|\n",
      "|\"Mozilla/5.0 (iPh...|\n",
      "|\"Mozilla/5.0 (Win...|\n",
      "|Mozilla/5.0 (Wind...|\n",
      "|\"Mozilla/5.0 (Mac...|\n",
      "|Mozilla/5.0 (Wind...|\n",
      "+--------------------+\n",
      "only showing top 20 rows\n",
      "\n",
      "+------+\n",
      "|userId|\n",
      "+------+\n",
      "|   296|\n",
      "|100010|\n",
      "|200002|\n",
      "|   125|\n",
      "|    51|\n",
      "|   124|\n",
      "|     7|\n",
      "|200037|\n",
      "|   169|\n",
      "|   205|\n",
      "|   272|\n",
      "|    54|\n",
      "|   282|\n",
      "|   232|\n",
      "|   234|\n",
      "|    15|\n",
      "|   155|\n",
      "|200043|\n",
      "|   154|\n",
      "|   132|\n",
      "+------+\n",
      "only showing top 20 rows\n",
      "\n"
     ]
    }
   ],
   "source": [
    "for column in df.dtypes:\n",
    "    if column[1] == 'string':\n",
    "        df.select(column[0]).drop_duplicates().show()"
   ]
  },
  {
   "cell_type": "code",
   "execution_count": 7,
   "metadata": {},
   "outputs": [
    {
     "output_type": "stream",
     "name": "stdout",
     "text": [
      "+--------------------+\n|                page|\n+--------------------+\n|              Cancel|\n|    Submit Downgrade|\n|         Thumbs Down|\n|                Home|\n|           Downgrade|\n|         Roll Advert|\n|              Logout|\n|       Save Settings|\n|Cancellation Conf...|\n|               About|\n| Submit Registration|\n|            Settings|\n|               Login|\n|            Register|\n|     Add to Playlist|\n|          Add Friend|\n|            NextSong|\n|           Thumbs Up|\n|                Help|\n|             Upgrade|\n|               Error|\n|      Submit Upgrade|\n+--------------------+\n\n"
     ]
    }
   ],
   "source": [
    "df.select('page').drop_duplicates().show(30)"
   ]
  },
  {
   "cell_type": "code",
   "execution_count": 8,
   "metadata": {},
   "outputs": [
    {
     "output_type": "stream",
     "name": "stdout",
     "text": [
      "artist: 110828 missing values\n",
      "auth: 0 missing values\n",
      "gender: 15700 missing values\n",
      "itemInSession: 543705 missing values\n",
      "level: 0 missing values\n",
      "location: 15700 missing values\n",
      "page: 0 missing values\n",
      "registration: 543705 missing values\n",
      "sessionId: 543705 missing values\n",
      "song: 110828 missing values\n",
      "status: 543705 missing values\n",
      "ts: 543705 missing values\n",
      "userAgent: 15700 missing values\n",
      "userId: 15700 missing values\n"
     ]
    }
   ],
   "source": [
    "df_size = df.count()\n",
    "\n",
    "for column in df.columns:\n",
    "    missing_values = df_size - df.select(column).filter(df[column] != \"\").na.drop().count()\n",
    "    print(f'{column}: {missing_values} missing values')"
   ]
  },
  {
   "cell_type": "code",
   "execution_count": 9,
   "metadata": {},
   "outputs": [
    {
     "output_type": "stream",
     "name": "stdout",
     "text": [
      "artist: 18.02 % missing values\n",
      "auth: 0.00 % missing values\n",
      "gender: 0.00 % missing values\n",
      "itemInSession: 0.00 % missing values\n",
      "level: 0.00 % missing values\n",
      "location: 0.00 % missing values\n",
      "page: 0.00 % missing values\n",
      "registration: 0.00 % missing values\n",
      "sessionId: 0.00 % missing values\n",
      "song: 18.02 % missing values\n",
      "status: 0.00 % missing values\n",
      "ts: 0.00 % missing values\n",
      "userAgent: 0.00 % missing values\n",
      "userId: 0.00 % missing values\n"
     ]
    }
   ],
   "source": [
    "df_size = df.filter(df.auth.isin(['Logged Out', 'Guest']) == False).count()\n",
    "\n",
    "for column in df.columns:\n",
    "    missing_values = ((df_size - df.filter(df.auth.isin(['Logged Out', 'Guest']) == False)\\\n",
    "                                    .select(column)\\\n",
    "                                    .filter(df[column].cast(StringType()) != \"\")\\\n",
    "                                    .na.drop()\\\n",
    "                                    .count()) \n",
    "                        / df_size) * 100\n",
    "    print(f'{column}: {missing_values:.2f} % missing values')"
   ]
  },
  {
   "source": [
    "All missing values for the `userId` column are created by users that are either `Logged Out`, or logged in as a `Guest`.\n",
    "\n",
    "The empty values for `Artist`, `Song` and `Length` are most likely due not no song being played at the time of the event. \n",
    "\n",
    "It is also important to note, that the `userId` is sometimes an empty string, not NaN\n"
   ],
   "cell_type": "markdown",
   "metadata": {}
  },
  {
   "source": [
    "# Clean data\n",
    "\n",
    "As there is no value in looking at users that are not logged in for churn analysis - their entries will be disregarded. \n",
    "The empty `Artist`, `Song` and `Length` values will not be removed, as the rest of their rows provide valuable data."
   ],
   "cell_type": "markdown",
   "metadata": {}
  },
  {
   "cell_type": "code",
   "execution_count": 10,
   "metadata": {},
   "outputs": [],
   "source": [
    "df = df.filter(df.auth.isin(['Logged Out', 'Guest']) == False)"
   ]
  },
  {
   "source": [
    "def detect_os(column):\n",
    "    detect = re.findall(r'\\((\\w+)', column)[0]\n",
    "    if detect in ['iPhone', 'iPad', 'Macintosh']:\n",
    "        return 'Apple'\n",
    "    elif detect in ['Windows', 'compatible']:\n",
    "        return'Microsoft'\n",
    "    elif detect in ['X11']:\n",
    "        return'Linux'\n",
    "    else:\n",
    "        return 'Not Detected'\n",
    "\n",
    "detect_os_udf = udf(detect_os)\n",
    "df = df.withColumn('platform', detect_os_udf(df.userAgent)).withColumn('ageHours', (df.ts - df.registration)/3600000).drop('userAgent')\n",
    "\n",
    "df = df.withColumn('levelNr', when(\n",
    "    col('level') == 'paid', 1)\n",
    "    .otherwise(0)\n",
    ")"
   ],
   "cell_type": "code",
   "metadata": {},
   "execution_count": 11,
   "outputs": []
  },
  {
   "cell_type": "code",
   "execution_count": 12,
   "metadata": {
    "tags": []
   },
   "outputs": [
    {
     "output_type": "stream",
     "name": "stdout",
     "text": [
      "+--------------------+---------+------+-------------+-----+--------------------+--------------------+-------------+---------+--------------------+------+-------------+------+--------+------------------+-------+---------+-------+\n|              artist|     auth|gender|itemInSession|level|            location|                page| registration|sessionId|                song|status|           ts|userId|platform|          ageHours|levelNr|ChurnFlag|Churned|\n+--------------------+---------+------+-------------+-----+--------------------+--------------------+-------------+---------+--------------------+------+-------------+------+--------+------------------+-------+---------+-------+\n|                null|Cancelled|     F|           67| free|Bridgeport-Stamfo...|Cancellation Conf...|1538016340000|      166|                null|   200|1539254318000|100010|   Apple| 343.8827777777778|      0|        1|      1|\n|                null|Logged In|     F|           66| free|Bridgeport-Stamfo...|              Cancel|1538016340000|      166|                null|   307|1539254305000|100010|   Apple|343.87916666666666|      0|        0|      1|\n|                null|Logged In|     F|           65| free|Bridgeport-Stamfo...|         Roll Advert|1538016340000|      166|                null|   200|1539254304000|100010|   Apple|343.87888888888887|      0|        0|      1|\n|Barry Tuckwell/Ac...|Logged In|     F|           64| free|Bridgeport-Stamfo...|            NextSong|1538016340000|      166|Horn Concerto No....|   200|1539254279000|100010|   Apple|343.87194444444447|      0|        0|      1|\n|        The Features|Logged In|     F|           63| free|Bridgeport-Stamfo...|            NextSong|1538016340000|      166|         Blow It Out|   200|1539254097000|100010|   Apple|343.82138888888886|      0|        0|      1|\n|                null|Logged In|     F|           62| free|Bridgeport-Stamfo...|         Roll Advert|1538016340000|      166|                null|   200|1539253766000|100010|   Apple| 343.7294444444444|      0|        0|      1|\n|            BjÃÂ¶rk|Logged In|     F|           61| free|Bridgeport-Stamfo...|            NextSong|1538016340000|      166|                Undo|   200|1539253749000|100010|   Apple| 343.7247222222222|      0|        0|      1|\n|            Ill Nino|Logged In|     F|           60| free|Bridgeport-Stamfo...|            NextSong|1538016340000|      166|How Can I Live (S...|   200|1539253561000|100010|   Apple|          343.6725|      0|        0|      1|\n|                null|Logged In|     F|           59| free|Bridgeport-Stamfo...|         Thumbs Down|1538016340000|      166|                null|   307|1539253352000|100010|   Apple| 343.6144444444444|      0|        0|      1|\n|       Alison Krauss|Logged In|     F|           58| free|Bridgeport-Stamfo...|            NextSong|1538016340000|      166|Tonight I'll Be L...|   200|1539253351000|100010|   Apple| 343.6141666666667|      0|        0|      1|\n|                 JET|Logged In|     F|           57| free|Bridgeport-Stamfo...|            NextSong|1538016340000|      166|Are You Gonna Be ...|   200|1539253138000|100010|   Apple|           343.555|      0|        0|      1|\n|           Santogold|Logged In|     F|           56| free|Bridgeport-Stamfo...|            NextSong|1538016340000|      166|Shove It [feat. S...|   200|1539252914000|100010|   Apple| 343.4927777777778|      0|        0|      1|\n|         Spice Girls|Logged In|     F|           55| free|Bridgeport-Stamfo...|            NextSong|1538016340000|      166|            Too Much|   200|1539252643000|100010|   Apple|          343.4175|      0|        0|      1|\n|        Dar Williams|Logged In|     F|           54| free|Bridgeport-Stamfo...|            NextSong|1538016340000|      166|              Empire|   200|1539252416000|100010|   Apple| 343.3544444444444|      0|        0|      1|\n|           Silentium|Logged In|     F|           53| free|Bridgeport-Stamfo...|            NextSong|1538016340000|      166|  With Blood Adorned|   200|1539252149000|100010|   Apple|343.28027777777777|      0|        0|      1|\n|       Brooks & Dunn|Logged In|     F|           52| free|Bridgeport-Stamfo...|            NextSong|1538016340000|      166|If You See Him / ...|   200|1539251911000|100010|   Apple|343.21416666666664|      0|        0|      1|\n|Eliades Ochoa Y E...|Logged In|     F|           51| free|Bridgeport-Stamfo...|            NextSong|1538016340000|      166|Me Voy Pa Sibanic...|   200|1539251555000|100010|   Apple| 343.1152777777778|      0|        0|      1|\n|    Carlos Y JosÃÂ©|Logged In|     F|           50| free|Bridgeport-Stamfo...|            NextSong|1538016340000|      166|   Corrido Al Torero|   200|1539251374000|100010|   Apple|           343.065|      0|        0|      1|\n|       Faith No More|Logged In|     F|           49| free|Bridgeport-Stamfo...|            NextSong|1538016340000|      166|      Midlife Crisis|   200|1539251117000|100010|   Apple|342.99361111111114|      0|        0|      1|\n|          Fly Pan Am|Logged In|     F|           48| free|Bridgeport-Stamfo...|            NextSong|1538016340000|      166|     Arcades-Pamelor|   200|1539250896000|100010|   Apple| 342.9322222222222|      0|        0|      1|\n+--------------------+---------+------+-------------+-----+--------------------+--------------------+-------------+---------+--------------------+------+-------------+------+--------+------------------+-------+---------+-------+\nonly showing top 20 rows\n\n"
     ]
    }
   ],
   "source": [
    "flag_cancellation_event = udf(lambda x: 1 if x == \"Cancellation Confirmation\" else 0, IntegerType())\n",
    "df_churn = df.withColumn('ChurnFlag', flag_cancellation_event('page'))\n",
    "windowed = Window.partitionBy('userId').orderBy(desc('ts')).rangeBetween(Window.unboundedPreceding, 0)\n",
    "df_churn = df_churn.withColumn('Churned', Fsum('ChurnFlag').over(windowed))\n",
    "df_churn.filter(df_churn.Churned == 1).show()"
   ]
  },
  {
   "cell_type": "code",
   "execution_count": 13,
   "metadata": {},
   "outputs": [],
   "source": [
    "user_level = df_churn.groupBy('userId')\\\n",
    "                .agg(\n",
    "                    Fmax('ts').alias('latestSession'), \n",
    "                    Fmax(when(col('ChurnFlag') == 1, col('ts'))).alias('ChurnTime'))\n",
    "df_churn = df_churn.join(user_level, on= 'userId', how='left')\n",
    "df_churn = df_churn.withColumn(\n",
    "    'lastMonth',\n",
    "        when(col('churned') == 1, (col('ChurnTime') - col('ts')) /3600000 <= 720)\n",
    "        .otherwise((col('latestSession') - col('ts')) /3600000 <= 720))"
   ]
  },
  {
   "cell_type": "code",
   "execution_count": 14,
   "metadata": {},
   "outputs": [
    {
     "output_type": "stream",
     "name": "stdout",
     "text": [
      "+------+------+---------+-------+------------------+-----------+------------------+-------------+-----------------+-------+---------+------------+------+----+-----------+------------+-----------------------+---------------------+\n|userId|gender| platform|Churned| avgItemsInSession|premiumUser|          ageHours|songsListened|playlistAdditions|upVotes|downVotes|friendsAdded|errors|help|adsListened|sessionCount|distinctArtistsListened|distinctSongsListened|\n+------+------+---------+-------+------------------+-----------+------------------+-------------+-----------------+-------+---------+------------+------+----+-----------+------------+-----------------------+---------------------+\n|200002|     M|    Apple|      1|54.832911392405066|          1|1279.7555555555555|          310|                6|     15|        5|           2|     0|   1|         11|           5|                    287|                  306|\n|100049|     M|    Apple|      1| 63.91210613598673|          1|1219.9944444444445|          465|               22|     13|        5|           6|     0|   5|         37|           9|                    392|                  440|\n|     2|     F|Microsoft|      0| 59.46264367816092|          1|1892.6022222222223|          296|               10|     16|        3|           6|     0|   1|          0|           6|                    260|                  287|\n|   301|     F|    Apple|      0|               7.0|          0|2381.4780555555553|           12|                0|      0|        1|           0|     0|   0|          1|           1|                     12|                   12|\n|300002|     F|    Apple|      0| 73.99215344376634|          1|3035.9777777777776|          935|               18|     83|       13|          16|     0|   6|          0|          12|                    718|                  863|\n|   123|     M|    Apple|      1|27.654545454545456|          0|1274.4994444444444|           39|                2|      2|        0|           1|     0|   0|          4|           1|                     39|                   39|\n|    55|     M|    Apple|      0| 57.10344827586207|          1|1924.1805555555557|          419|                7|     13|        7|          17|     1|   2|         14|          12|                    363|                  396|\n|    38|     M|    Apple|      0|137.28740875912408|          1|1787.1402777777778|         1831|               59|     88|       24|          36|     2|   6|          0|          20|                   1242|                 1630|\n|100038|     M|Microsoft|      1| 64.23843930635839|          0| 811.9580555555556|          503|               12|     26|        8|          10|     1|   4|         86|           8|                    424|                  479|\n|200007|     F|    Apple|      0| 31.50793650793651|          1|1385.7516666666668|           94|                5|      8|        2|           0|     0|   1|          4|           3|                     90|                   92|\n|   208|     F|Microsoft|      1| 20.86842105263158|          0|456.16027777777776|           26|                0|      2|        0|           1|     0|   1|          0|           1|                     26|                   26|\n|300045|     M|Microsoft|      0|47.977337110481585|          1|2073.4391666666666|          290|                9|     23|        0|          14|     0|   3|          1|           6|                    259|                  280|\n|200013|     M|    Apple|      1|26.771300448430495|          1|1859.7611111111112|          174|                4|     13|        4|           1|     0|   1|          5|           6|                    164|                  174|\n|   100|     M|Microsoft|      0| 109.6023897816234|          1|1562.2813888888888|         2061|               57|     84|       24|          42|     3|  10|          1|          25|                   1362|                 1814|\n|300041|     M|    Apple|      0|  72.6701030927835|          1|1395.9047222222223|          713|               27|     61|        9|          11|     2|   6|          0|          10|                    563|                  670|\n|   285|     F|Microsoft|      0|101.63442940038685|          1| 2727.591388888889|          426|               18|     23|        3|          13|     0|   4|          4|           5|                    358|                  407|\n|    57|     M|    Apple|      0|  60.3732057416268|          1|1038.9488888888889|          176|                6|      7|        2|           3|     0|   1|          0|           2|                    157|                  169|\n|   135|     F|Microsoft|      0| 19.15068493150685|          0| 3003.948888888889|           54|                0|      2|        0|           3|     0|   0|          5|           2|                     53|                   54|\n|300017|     F|    Apple|      0| 74.42533229085223|          1|1793.9016666666666|         2065|               59|    192|       14|          53|     1|  10|          3|          38|                   1361|                 1828|\n|   227|     F|    Apple|      0|15.927272727272728|          0|1938.0744444444445|           82|                2|      3|        0|           1|     1|   2|          8|           4|                     80|                   81|\n+------+------+---------+-------+------------------+-----------+------------------+-------------+-----------------+-------+---------+------------+------+----+-----------+------------+-----------------------+---------------------+\nonly showing top 20 rows\n\n"
     ]
    }
   ],
   "source": [
    "df_last_month = df_churn\\\n",
    "    .filter(col('lastMonth') == True)\\\n",
    "    .groupBy(['userId', 'gender', 'platform', 'Churned'])\\\n",
    "    .agg(\n",
    "        Favg(col('itemInSession')).alias('avgItemsInSession'),\n",
    "        Fmax(col('levelNr')).alias('premiumUser'),\n",
    "        Fmax(col('ageHours')).alias('ageHours'),\n",
    "        Fsum(when(col('page') == 'NextSong', 1)).alias('songsListened'),\n",
    "        Fsum(when(col('page') == 'Add to Playlist', 1)).alias('playlistAdditions'),\n",
    "        Fsum(when(col('page') == 'Thumbs Up', 1)).alias('upVotes'),\n",
    "        Fsum(when(col('page') == 'Thumbs Down', 1)).alias('downVotes'),\n",
    "        Fsum(when(col('page') == 'Add Friend', 1)).alias('friendsAdded'),\n",
    "        Fsum(when(col('page') == 'Error', 1)).alias('errors'),\n",
    "        Fsum(when(col('page') == 'Help', 1)).alias('help'),\n",
    "        Fsum(when(col('page') == 'Roll Advert', 1)).alias('adsListened'),\n",
    "        FcountDistinct(col('sessionId')).alias('sessionCount'),\n",
    "        FcountDistinct(col('artist')).alias('distinctArtistsListened'),\n",
    "        FcountDistinct(col('song')).alias('distinctSongsListened')        \n",
    "    )\n",
    "\n",
    "df_last_month= df_last_month.fillna({\n",
    "    'playlistAdditions':0,\n",
    "    'upVotes':0,\n",
    "    'downVotes':0,\n",
    "    'friendsAdded':0,\n",
    "    'errors':0,\n",
    "    'help':0,\n",
    "    'adsListened':0,\n",
    "    'songsListened':0\n",
    "})\n",
    "\n",
    "df_last_month.show()"
   ]
  },
  {
   "cell_type": "code",
   "execution_count": 15,
   "metadata": {},
   "outputs": [
    {
     "output_type": "stream",
     "name": "stdout",
     "text": [
      "+-------+-----+-----+------+-----+---------+-----+-----------------+-------------------+------------------+--------------------+----------------------------+------------------------------+------------------------+------------------+-----------------+-------------------+------------------+\n|Churned|total| male|female|apple|Microsoft|Linux|avgItemsInSession|premiumUserFraction|   averageAgeHours|averageSongsListened|averageDistinctSongsListened|averageDistinctArtistsListened|averagePlaylistAdditions|    averageUpVotes| averageDownVotes|averageFriendsAdded|     averageErrors|\n+-------+-----+-----+------+-----+---------+-----+-----------------+-------------------+------------------+--------------------+----------------------------+------------------------------+------------------------+------------------+-----------------+-------------------+------------------+\n|      0|  349|196.0| 153.0|154.0|    174.0| 21.0|76.39518797097304| 0.6905444126074498|2089.1691411970705|   590.9426934097421|           541.9598853868195|             446.4297994269341|                    17.0|   32.621776504298|6.578796561604585| 11.080229226361032| 0.670487106017192|\n|      1|   99| 54.0|  45.0| 46.0|     48.0|  5.0| 78.9915509133847| 0.7575757575757576| 1631.232477553311|   656.7070707070707|           599.5757575757576|             490.8686868686869|      17.818181818181817|33.292929292929294| 9.02020202020202| 11.787878787878787|0.6666666666666666|\n+-------+-----+-----+------+-----+---------+-----+-----------------+-------------------+------------------+--------------------+----------------------------+------------------------------+------------------------+------------------+-----------------+-------------------+------------------+\n\n"
     ]
    }
   ],
   "source": [
    "df_last_month.groupBy('Churned')\\\n",
    "    .agg(\n",
    "        Fcount('userId').alias('total'),\n",
    "        Fsum(when(col('gender') == 'M', '1')).alias('male'),\n",
    "        Fsum(when(col('gender') == 'F', '1')).alias('female'),\n",
    "        Fsum(when(col('platform') == 'Apple', '1')).alias('apple'),\n",
    "        Fsum(when(col('platform') == 'Microsoft', '1')).alias('Microsoft'),\n",
    "        Fsum(when(col('platform') == 'Linux', '1')).alias('Linux'),\n",
    "        Favg('avgItemsInSession').alias('avgItemsInSession'),\n",
    "        Favg('premiumUser').alias('premiumUserFraction'),\n",
    "        Favg('ageHours').alias('averageAgeHours'),\n",
    "        Favg('songsListened').alias('averageSongsListened'),\n",
    "        Favg('distinctSongsListened').alias('averageDistinctSongsListened'),\n",
    "        Favg('distinctArtistsListened').alias('averageDistinctArtistsListened'),\n",
    "        Favg('playlistAdditions').alias('averagePlaylistAdditions'),\n",
    "        Favg('upVotes').alias('averageUpVotes'),\n",
    "        Favg('downVotes').alias('averageDownVotes'),\n",
    "        Favg('friendsAdded').alias('averageFriendsAdded'),\n",
    "        Favg('errors').alias('averageErrors')\n",
    "    ).show()"
   ]
  },
  {
   "source": [
    "## EDA results\n",
    "\n",
    "|         | Not Churned | Churned |\n",
    "|---------|-------------|---------|\n",
    "| female  | 44%         | 45%     |\n",
    "| apple   | 44%         | 46,5%   |\n",
    "| Windows | 49.9%       | 48.5%   |\n",
    "| Linux   | 6.1%        | 5%      |\n",
    "\n",
    "* It does not look like gender has an influence on churn.\n",
    "* apple users are slightly more likely to churn compared to Linux and Windows users.\n",
    "* Churned users seem to be slightly more engaged, having a higher percentage of premium users, more items per session, songs listened and votes in general. \n",
    "* The one thing that stands out is that they have way give way more Down Votes on average. \n",
    "* They seem to be relatively newer to the service than the non churned users."
   ],
   "cell_type": "markdown",
   "metadata": {}
  },
  {
   "source": [
    "# Feature Engineering\n",
    "## Selected features\n",
    "\n",
    "* Platform\n",
    "* Level\n",
    "* User Age\n",
    "* Songs listened\n",
    "* Down Votes"
   ],
   "cell_type": "markdown",
   "metadata": {}
  },
  {
   "cell_type": "code",
   "execution_count": 16,
   "metadata": {},
   "outputs": [
    {
     "output_type": "stream",
     "name": "stdout",
     "text": [
      "+-----+---------------+-----------+------------------+-------------+---------+\n|label|platformIndexed|premiumUser|          ageHours|songsListened|downVotes|\n+-----+---------------+-----------+------------------+-------------+---------+\n|    1|            1.0|          1|1279.7555555555555|          310|        5|\n|    1|            1.0|          1|1219.9944444444445|          465|        5|\n|    0|            0.0|          1|1892.6022222222223|          296|        3|\n|    0|            1.0|          0|2381.4780555555553|           12|        1|\n|    0|            1.0|          1|3035.9777777777776|          935|       13|\n|    1|            1.0|          0|1274.4994444444444|           39|        0|\n|    0|            1.0|          1|1924.1805555555557|          419|        7|\n|    0|            1.0|          1|1787.1402777777778|         1831|       24|\n|    1|            0.0|          0| 811.9580555555556|          503|        8|\n|    0|            1.0|          1|1385.7516666666668|           94|        2|\n|    1|            0.0|          0|456.16027777777776|           26|        0|\n|    0|            0.0|          1|2073.4391666666666|          290|        0|\n|    1|            1.0|          1|1859.7611111111112|          174|        4|\n|    0|            0.0|          1|1562.2813888888888|         2061|       24|\n|    0|            1.0|          1|1395.9047222222223|          713|        9|\n|    0|            0.0|          1| 2727.591388888889|          426|        3|\n|    0|            1.0|          1|1038.9488888888889|          176|        2|\n|    0|            0.0|          0| 3003.948888888889|           54|        0|\n|    0|            1.0|          1|1793.9016666666666|         2065|       14|\n|    0|            1.0|          0|1938.0744444444445|           82|        0|\n+-----+---------------+-----------+------------------+-------------+---------+\nonly showing top 20 rows\n\n"
     ]
    }
   ],
   "source": [
    "features = ['label', 'platformIndexed', 'premiumUser', 'ageHours', 'songsListened', 'downVotes']\n",
    "\n",
    "indexer = StringIndexer(inputCol='platform', outputCol='platformIndexed')\n",
    "df_user = indexer.fit(df_last_month)\\\n",
    "            .transform(df_last_month)\\\n",
    "            .withColumnRenamed('Churned', 'label')\\\n",
    "            .select(features)\n",
    "\n",
    "df_user.show()"
   ]
  },
  {
   "source": [
    "# Modeling"
   ],
   "cell_type": "markdown",
   "metadata": {}
  },
  {
   "cell_type": "code",
   "execution_count": 17,
   "metadata": {},
   "outputs": [],
   "source": [
    "train, test = df_user.randomSplit([0.8, 0.2], 23)\n",
    "\n",
    "feature_names = ['platformIndexed', 'premiumUser', 'ageHours', 'songsListened', 'downVotes']\n",
    "assembler = VectorAssembler(inputCols = feature_names, outputCol = 'features_vectorized')\n",
    "scaler = MinMaxScaler(inputCol = 'features_vectorized', outputCol = 'features')"
   ]
  },
  {
   "cell_type": "code",
   "execution_count": 18,
   "metadata": {},
   "outputs": [],
   "source": [
    "def run_pipeline(model, param_grid, data):\n",
    "    pipeline = Pipeline(stages = [assembler, scaler, model])\n",
    "    crossval = CrossValidator(\n",
    "        estimator=pipeline,\n",
    "        estimatorParamMaps=param_grid,\n",
    "        evaluator=MulticlassClassificationEvaluator(metricName='f1'),\n",
    "        numFolds=3)\n",
    "    trained_model = crossval.fit(data)\n",
    "    return trained_model\n",
    "\n",
    "def evaluate_model(model, data):\n",
    "    evaluator = MulticlassClassificationEvaluator(metricName= 'f1')\n",
    "    predictions = model.transform(data)\n",
    "\n",
    "    score = evaluator.evaluate(predictions)\n",
    "    confusion_matrix = predictions.groupby('label')\\\n",
    "                        .pivot('prediction')\\\n",
    "                        .count()\\\n",
    "                        .toPandas()\n",
    "    return score, confusion_matrix"
   ]
  },
  {
   "cell_type": "code",
   "execution_count": 101,
   "metadata": {},
   "outputs": [
    {
     "output_type": "stream",
     "name": "stdout",
     "text": [
      "The score for the logistic regression is 0.7224\n"
     ]
    },
    {
     "output_type": "execute_result",
     "data": {
      "text/plain": [
       "   label  0.0  1.0\n",
       "0      0   63  NaN\n",
       "1      1   16  1.0"
      ],
      "text/html": "<div>\n<style scoped>\n    .dataframe tbody tr th:only-of-type {\n        vertical-align: middle;\n    }\n\n    .dataframe tbody tr th {\n        vertical-align: top;\n    }\n\n    .dataframe thead th {\n        text-align: right;\n    }\n</style>\n<table border=\"1\" class=\"dataframe\">\n  <thead>\n    <tr style=\"text-align: right;\">\n      <th></th>\n      <th>label</th>\n      <th>0.0</th>\n      <th>1.0</th>\n    </tr>\n  </thead>\n  <tbody>\n    <tr>\n      <th>0</th>\n      <td>0</td>\n      <td>63</td>\n      <td>NaN</td>\n    </tr>\n    <tr>\n      <th>1</th>\n      <td>1</td>\n      <td>16</td>\n      <td>1.0</td>\n    </tr>\n  </tbody>\n</table>\n</div>"
     },
     "metadata": {},
     "execution_count": 101
    }
   ],
   "source": [
    "lr = LogisticRegression(maxIter = 10, regParam=0.0, elasticNetParam=0)\n",
    "\n",
    "param_grid = ParamGridBuilder()\\\n",
    "                .addGrid(lr.maxIter, [10, 5])\\\n",
    "                .build()\n",
    "lr_model = run_pipeline(lr, param_grid, train)\n",
    "\n",
    "lr_score, lr_confusion = evaluate_model(lr_model, test)\n",
    "print(f'The score for the logistic regression is {lr_score:.4f}')\n",
    "lr_confusion"
   ]
  },
  {
   "cell_type": "code",
   "execution_count": 89,
   "metadata": {},
   "outputs": [
    {
     "output_type": "stream",
     "name": "stdout",
     "text": [
      "The score for the random forest is 0.7452158045065058\n"
     ]
    },
    {
     "output_type": "execute_result",
     "data": {
      "text/plain": [
       "   label  0.0  1.0\n",
       "0      0   63  NaN\n",
       "1      1   16  1.0"
      ],
      "text/html": "<div>\n<style scoped>\n    .dataframe tbody tr th:only-of-type {\n        vertical-align: middle;\n    }\n\n    .dataframe tbody tr th {\n        vertical-align: top;\n    }\n\n    .dataframe thead th {\n        text-align: right;\n    }\n</style>\n<table border=\"1\" class=\"dataframe\">\n  <thead>\n    <tr style=\"text-align: right;\">\n      <th></th>\n      <th>label</th>\n      <th>0.0</th>\n      <th>1.0</th>\n    </tr>\n  </thead>\n  <tbody>\n    <tr>\n      <th>0</th>\n      <td>0</td>\n      <td>63</td>\n      <td>NaN</td>\n    </tr>\n    <tr>\n      <th>1</th>\n      <td>1</td>\n      <td>16</td>\n      <td>1.0</td>\n    </tr>\n  </tbody>\n</table>\n</div>"
     },
     "metadata": {},
     "execution_count": 89
    }
   ],
   "source": [
    "rf = RandomForestClassifier(numTrees=20, featureSubsetStrategy='auto')\n",
    "\n",
    "param_grid = ParamGridBuilder()\\\n",
    "                .addGrid(rf.numTrees, [5,10,15])\\\n",
    "                .addGrid(rf.maxBins, [4,8,16])\\\n",
    "                .build()\n",
    "\n",
    "rf_model = run_pipeline(rf, param_grid, train)\n",
    "\n",
    "rf_score, rf_confusion = evaluate_model(rf_model, test)\n",
    "print(f'The score for the random forest is {rf_score:.4f}')\n",
    "lr_confusion\n",
    "\n",
    "print(f'Best numTrees: {rf_model.bestModel.stages[2].getNumTrees}')\n",
    "print(f'Best maxBins: {rf_model.bestModel.stages[2].getMaxBins()}')"
   ]
  },
  {
   "cell_type": "code",
   "execution_count": 82,
   "metadata": {},
   "outputs": [
    {
     "output_type": "stream",
     "name": "stdout",
     "text": [
      "The score for the gradient boost is 0.7655458089668616\nBest maxIter: 10\nBest stepSize: 0.1\n"
     ]
    }
   ],
   "source": [
    "gb = GBTClassifier()\n",
    "\n",
    "param_grid = ParamGridBuilder()\\\n",
    "                .addGrid(gb.maxIter, [5, 10, 15])\\\n",
    "                .addGrid(gb.stepSize, [0.01, 0.1, 0.2])\\\n",
    "                .build()\n",
    "\n",
    "gb_model = run_pipeline(gb, param_grid, train)\n",
    "\n",
    "gb_score, gb_confusion = evaluate_model(gb_model, test)\n",
    "print(f'The score for the gradient boost is {gb_score:.4f}')\n",
    "gb_confusion\n",
    "\n",
    "print(f'Best maxIter: {gb_model.bestModel.stages[2].getMaxIter()}')\n",
    "print(f'Best stepSize: {gb_model.bestModel.stages[2].getStepSize()}')"
   ]
  },
  {
   "cell_type": "code",
   "execution_count": 100,
   "metadata": {},
   "outputs": [
    {
     "output_type": "stream",
     "name": "stdout",
     "text": [
      "The score for the multiplayer perceptron is 0.8102272727272727\nBest layer configuration: [5, 4, 2]\nBest block size: 32\n"
     ]
    }
   ],
   "source": [
    "mp = MultilayerPerceptronClassifier()\n",
    "\n",
    "param_grid = ParamGridBuilder()\\\n",
    "                .addGrid(mp.layers, [[5, 6, 5, 2], [5, 4, 4, 2], [5, 4, 2]])\\\n",
    "                .addGrid(mp.blockSize, [32, 64, 128])\\\n",
    "                .build()\n",
    "\n",
    "mp_model = run_pipeline(mp, param_grid, train)\n",
    "\n",
    "mp_score, mp_confusion = evaluate_model(mp_model, test)\n",
    "print(f'The score for the multiplayer perceptron is {mp_score:.4f}')\n",
    "mp_confusion\n",
    "\n",
    "print(f'Best layer configuration: {mp_model.bestModel.stages[2].getLayers()}')\n",
    "print(f'Best block size: {mp_model.bestModel.stages[2].getBlockSize()}')"
   ]
  }
 ]
}